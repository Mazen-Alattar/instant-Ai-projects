{
 "cells": [
  {
   "cell_type": "markdown",
   "id": "6dd39be2",
   "metadata": {
    "ExecuteTime": {
     "end_time": "2023-11-30T13:01:37.259537Z",
     "start_time": "2023-11-30T13:01:37.253160Z"
    },
    "papermill": {
     "duration": 0.008242,
     "end_time": "2023-11-30T13:43:30.432923",
     "exception": false,
     "start_time": "2023-11-30T13:43:30.424681",
     "status": "completed"
    },
    "tags": []
   },
   "source": [
    "# <h2>Definition:</h2>\n",
    "<h5 style=\"color:  #8B0000;\">      Explain what Object-Oriented Programming is and why it's important in software development</h5>"
   ]
  },
  {
   "cell_type": "markdown",
   "id": "b749764a",
   "metadata": {
    "papermill": {
     "duration": 0.004393,
     "end_time": "2023-11-30T13:43:30.442130",
     "exception": false,
     "start_time": "2023-11-30T13:43:30.437737",
     "status": "completed"
    },
    "tags": []
   },
   "source": [
    "#### Key Concepts:"
   ]
  },
  {
   "cell_type": "markdown",
   "id": "860432dc",
   "metadata": {
    "papermill": {
     "duration": 0.004685,
     "end_time": "2023-11-30T13:43:30.451463",
     "exception": false,
     "start_time": "2023-11-30T13:43:30.446778",
     "status": "completed"
    },
    "tags": []
   },
   "source": [
    "<h4> 1.Classes and Objects : </h4>\n",
    "<h5> a.Class Declaration:</h5>\n",
    "<h8> how to declare a class using the class keyword. </h8>"
   ]
  },
  {
   "cell_type": "code",
   "execution_count": 1,
   "id": "aa8a7190",
   "metadata": {
    "ExecuteTime": {
     "end_time": "2023-11-30T13:09:55.616281Z",
     "start_time": "2023-11-30T13:09:55.611262Z"
    },
    "execution": {
     "iopub.execute_input": "2023-11-30T13:43:30.463587Z",
     "iopub.status.busy": "2023-11-30T13:43:30.462810Z",
     "iopub.status.idle": "2023-11-30T13:43:30.472142Z",
     "shell.execute_reply": "2023-11-30T13:43:30.471450Z"
    },
    "papermill": {
     "duration": 0.017865,
     "end_time": "2023-11-30T13:43:30.474324",
     "exception": false,
     "start_time": "2023-11-30T13:43:30.456459",
     "status": "completed"
    },
    "tags": []
   },
   "outputs": [],
   "source": [
    "class Car:\n",
    "    def __init__(self, make, model):\n",
    "        self.make = make\n",
    "        self.model = model\n"
   ]
  },
  {
   "cell_type": "markdown",
   "id": "2be59558",
   "metadata": {
    "papermill": {
     "duration": 0.004359,
     "end_time": "2023-11-30T13:43:30.483404",
     "exception": false,
     "start_time": "2023-11-30T13:43:30.479045",
     "status": "completed"
    },
    "tags": []
   },
   "source": [
    "<h5> b.Object Instantiation:</h5>\n",
    "<h8> how to create objects from a class.</h8>"
   ]
  },
  {
   "cell_type": "code",
   "execution_count": 2,
   "id": "6c3e5a1c",
   "metadata": {
    "ExecuteTime": {
     "end_time": "2023-11-30T13:15:28.404620Z",
     "start_time": "2023-11-30T13:15:28.401038Z"
    },
    "execution": {
     "iopub.execute_input": "2023-11-30T13:43:30.494529Z",
     "iopub.status.busy": "2023-11-30T13:43:30.493807Z",
     "iopub.status.idle": "2023-11-30T13:43:30.498321Z",
     "shell.execute_reply": "2023-11-30T13:43:30.497301Z"
    },
    "papermill": {
     "duration": 0.012334,
     "end_time": "2023-11-30T13:43:30.500362",
     "exception": false,
     "start_time": "2023-11-30T13:43:30.488028",
     "status": "completed"
    },
    "tags": []
   },
   "outputs": [],
   "source": [
    "my_car = Car(\"Toyota\", \"Camry\")\n"
   ]
  },
  {
   "cell_type": "markdown",
   "id": "66d65f41",
   "metadata": {
    "papermill": {
     "duration": 0.004402,
     "end_time": "2023-11-30T13:43:30.509407",
     "exception": false,
     "start_time": "2023-11-30T13:43:30.505005",
     "status": "completed"
    },
    "tags": []
   },
   "source": [
    "<h5>c.Attributes and Methods:</h5>\n",
    "<h8> instance variables (attributes) and methods.</h8>"
   ]
  },
  {
   "cell_type": "code",
   "execution_count": 3,
   "id": "22fb9bec",
   "metadata": {
    "ExecuteTime": {
     "end_time": "2023-11-30T13:15:30.803573Z",
     "start_time": "2023-11-30T13:15:30.797870Z"
    },
    "execution": {
     "iopub.execute_input": "2023-11-30T13:43:30.520524Z",
     "iopub.status.busy": "2023-11-30T13:43:30.519812Z",
     "iopub.status.idle": "2023-11-30T13:43:30.526680Z",
     "shell.execute_reply": "2023-11-30T13:43:30.525468Z"
    },
    "papermill": {
     "duration": 0.014623,
     "end_time": "2023-11-30T13:43:30.528584",
     "exception": false,
     "start_time": "2023-11-30T13:43:30.513961",
     "status": "completed"
    },
    "tags": []
   },
   "outputs": [
    {
     "name": "stdout",
     "output_type": "stream",
     "text": [
      "Toyota Camry\n"
     ]
    }
   ],
   "source": [
    "class Car:\n",
    "    def __init__(self, make, model):\n",
    "        self.make = make\n",
    "        self.model = model\n",
    "\n",
    "    def display_info(self):\n",
    "        print(f\"{self.make} {self.model}\")\n",
    "\n",
    "my_car = Car(\"Toyota\", \"Camry\")\n",
    "my_car.display_info()"
   ]
  },
  {
   "cell_type": "markdown",
   "id": "e5e9429e",
   "metadata": {
    "ExecuteTime": {
     "end_time": "2023-11-30T13:13:55.098989Z",
     "start_time": "2023-11-30T13:13:55.079577Z"
    },
    "papermill": {
     "duration": 0.00451,
     "end_time": "2023-11-30T13:43:30.537905",
     "exception": false,
     "start_time": "2023-11-30T13:43:30.533395",
     "status": "completed"
    },
    "tags": []
   },
   "source": [
    "####  2.Encapsulation\n",
    "<h5>a.Private and Public Attributes:</h5>\n",
    "<h8> the use of underscores (_ and __) to indicate attribute visibility.</h8>"
   ]
  },
  {
   "cell_type": "code",
   "execution_count": 4,
   "id": "f0e1ce82",
   "metadata": {
    "ExecuteTime": {
     "end_time": "2023-11-30T13:17:59.036330Z",
     "start_time": "2023-11-30T13:17:59.032054Z"
    },
    "execution": {
     "iopub.execute_input": "2023-11-30T13:43:30.549168Z",
     "iopub.status.busy": "2023-11-30T13:43:30.548615Z",
     "iopub.status.idle": "2023-11-30T13:43:30.552465Z",
     "shell.execute_reply": "2023-11-30T13:43:30.551796Z"
    },
    "papermill": {
     "duration": 0.011652,
     "end_time": "2023-11-30T13:43:30.554205",
     "exception": false,
     "start_time": "2023-11-30T13:43:30.542553",
     "status": "completed"
    },
    "tags": []
   },
   "outputs": [],
   "source": [
    "class Student:\n",
    "    def __init__(self, name, age):\n",
    "        self._name = name  \n",
    "        self.__age = age   "
   ]
  },
  {
   "cell_type": "markdown",
   "id": "b51d7947",
   "metadata": {
    "papermill": {
     "duration": 0.006116,
     "end_time": "2023-11-30T13:43:30.565020",
     "exception": false,
     "start_time": "2023-11-30T13:43:30.558904",
     "status": "completed"
    },
    "tags": []
   },
   "source": [
    "<h5> b.Getter and Setter Methods:</h5>\n",
    "<h8> the use of methods to access and modify private attributes.</h8>"
   ]
  },
  {
   "cell_type": "code",
   "execution_count": 5,
   "id": "d2c524af",
   "metadata": {
    "ExecuteTime": {
     "end_time": "2023-11-30T13:18:52.175517Z",
     "start_time": "2023-11-30T13:18:52.168242Z"
    },
    "execution": {
     "iopub.execute_input": "2023-11-30T13:43:30.576215Z",
     "iopub.status.busy": "2023-11-30T13:43:30.575652Z",
     "iopub.status.idle": "2023-11-30T13:43:30.580152Z",
     "shell.execute_reply": "2023-11-30T13:43:30.579494Z"
    },
    "papermill": {
     "duration": 0.012638,
     "end_time": "2023-11-30T13:43:30.582388",
     "exception": false,
     "start_time": "2023-11-30T13:43:30.569750",
     "status": "completed"
    },
    "tags": []
   },
   "outputs": [],
   "source": [
    "class Student:\n",
    "    def __init__(self, name, age):\n",
    "        self._name = name\n",
    "        self.__age = age\n",
    "\n",
    "    def get_age(self):\n",
    "        return self.__age\n",
    "\n",
    "    def set_age(self, new_age):\n",
    "        if new_age > 0:\n",
    "            self.__age = new_age\n"
   ]
  },
  {
   "cell_type": "markdown",
   "id": "9aa706b8",
   "metadata": {
    "papermill": {
     "duration": 0.004507,
     "end_time": "2023-11-30T13:43:30.591645",
     "exception": false,
     "start_time": "2023-11-30T13:43:30.587138",
     "status": "completed"
    },
    "tags": []
   },
   "source": [
    "#### 3. Inheritance\n",
    "<h5>a.Creating Subclasses:</h5>\n",
    "<h8> how to create a subclass that inherits from a base class.</h8>"
   ]
  },
  {
   "cell_type": "code",
   "execution_count": 6,
   "id": "a0e5145c",
   "metadata": {
    "ExecuteTime": {
     "end_time": "2023-11-30T13:20:33.320199Z",
     "start_time": "2023-11-30T13:20:33.315582Z"
    },
    "execution": {
     "iopub.execute_input": "2023-11-30T13:43:30.603159Z",
     "iopub.status.busy": "2023-11-30T13:43:30.602145Z",
     "iopub.status.idle": "2023-11-30T13:43:30.606803Z",
     "shell.execute_reply": "2023-11-30T13:43:30.606126Z"
    },
    "papermill": {
     "duration": 0.012327,
     "end_time": "2023-11-30T13:43:30.608736",
     "exception": false,
     "start_time": "2023-11-30T13:43:30.596409",
     "status": "completed"
    },
    "tags": []
   },
   "outputs": [],
   "source": [
    "class ElectricCar(Car):\n",
    "    def __init__(self, make, model, battery_capacity):\n",
    "        super().__init__(make, model)\n",
    "        self.battery_capacity = battery_capacity\n"
   ]
  },
  {
   "cell_type": "markdown",
   "id": "0d3152e3",
   "metadata": {
    "papermill": {
     "duration": 0.004457,
     "end_time": "2023-11-30T13:43:30.618168",
     "exception": false,
     "start_time": "2023-11-30T13:43:30.613711",
     "status": "completed"
    },
    "tags": []
   },
   "source": [
    "<h5> b.Overriding Methods:</h5>\n",
    "<h8> how to override methods in the subclass.</h8>"
   ]
  },
  {
   "cell_type": "code",
   "execution_count": 7,
   "id": "0a5875ca",
   "metadata": {
    "ExecuteTime": {
     "end_time": "2023-11-30T13:21:29.988036Z",
     "start_time": "2023-11-30T13:21:29.983235Z"
    },
    "execution": {
     "iopub.execute_input": "2023-11-30T13:43:30.629356Z",
     "iopub.status.busy": "2023-11-30T13:43:30.628740Z",
     "iopub.status.idle": "2023-11-30T13:43:30.632964Z",
     "shell.execute_reply": "2023-11-30T13:43:30.632016Z"
    },
    "papermill": {
     "duration": 0.012114,
     "end_time": "2023-11-30T13:43:30.634940",
     "exception": false,
     "start_time": "2023-11-30T13:43:30.622826",
     "status": "completed"
    },
    "tags": []
   },
   "outputs": [],
   "source": [
    "class ElectricCar(Car):\n",
    "    def display_info(self):\n",
    "        print(f\"{self.make} {self.model} (Electric)\")\n"
   ]
  },
  {
   "cell_type": "markdown",
   "id": "774d1bb9",
   "metadata": {
    "papermill": {
     "duration": 0.004446,
     "end_time": "2023-11-30T13:43:30.644091",
     "exception": false,
     "start_time": "2023-11-30T13:43:30.639645",
     "status": "completed"
    },
    "tags": []
   },
   "source": [
    "#### 4. Polymorphism ####\n",
    "<h5> Method Overloading: </h5>\n",
    "<h8>  how to create multiple methods with the same name but different parameters. </h8> "
   ]
  },
  {
   "cell_type": "code",
   "execution_count": 8,
   "id": "f00da796",
   "metadata": {
    "ExecuteTime": {
     "end_time": "2023-11-30T13:23:41.903412Z",
     "start_time": "2023-11-30T13:23:41.899160Z"
    },
    "execution": {
     "iopub.execute_input": "2023-11-30T13:43:30.654996Z",
     "iopub.status.busy": "2023-11-30T13:43:30.654655Z",
     "iopub.status.idle": "2023-11-30T13:43:30.659194Z",
     "shell.execute_reply": "2023-11-30T13:43:30.658242Z"
    },
    "papermill": {
     "duration": 0.012214,
     "end_time": "2023-11-30T13:43:30.661073",
     "exception": false,
     "start_time": "2023-11-30T13:43:30.648859",
     "status": "completed"
    },
    "tags": []
   },
   "outputs": [],
   "source": [
    "class MathOperations:\n",
    "    def add(self, x, y):\n",
    "        return x + y\n",
    "\n",
    "    def add(self, x, y, z):\n",
    "        return x + y + z\n"
   ]
  },
  {
   "cell_type": "markdown",
   "id": "bd308797",
   "metadata": {
    "papermill": {
     "duration": 0.004413,
     "end_time": "2023-11-30T13:43:30.670250",
     "exception": false,
     "start_time": "2023-11-30T13:43:30.665837",
     "status": "completed"
    },
    "tags": []
   },
   "source": [
    "<h5> Operator Overloading:</h5>\n",
    "<h8>Demonstrate how to define custom behavior for operators.</h8>"
   ]
  },
  {
   "cell_type": "code",
   "execution_count": 9,
   "id": "bc975f41",
   "metadata": {
    "ExecuteTime": {
     "end_time": "2023-11-30T13:24:15.172530Z",
     "start_time": "2023-11-30T13:24:15.167264Z"
    },
    "execution": {
     "iopub.execute_input": "2023-11-30T13:43:30.681496Z",
     "iopub.status.busy": "2023-11-30T13:43:30.680743Z",
     "iopub.status.idle": "2023-11-30T13:43:30.686580Z",
     "shell.execute_reply": "2023-11-30T13:43:30.685599Z"
    },
    "papermill": {
     "duration": 0.013847,
     "end_time": "2023-11-30T13:43:30.688793",
     "exception": false,
     "start_time": "2023-11-30T13:43:30.674946",
     "status": "completed"
    },
    "tags": []
   },
   "outputs": [],
   "source": [
    "class Point:\n",
    "    def __init__(self, x, y):\n",
    "        self.x = x\n",
    "        self.y = y\n",
    "\n",
    "    def __add__(self, other):\n",
    "        return Point(self.x + other.x, self.y + other.y)\n"
   ]
  },
  {
   "cell_type": "markdown",
   "id": "76e9e423",
   "metadata": {
    "papermill": {
     "duration": 0.00449,
     "end_time": "2023-11-30T13:43:30.698215",
     "exception": false,
     "start_time": "2023-11-30T13:43:30.693725",
     "status": "completed"
    },
    "tags": []
   },
   "source": [
    "<h4> Summary: </h4>\n",
    "<h6 style=\"color:  #8B0000;\">      Recap the key concepts of OOP in Python </h6>\n",
    "<h4> Next Steps:</h4>\n",
    "<h6 style=\"color: #8B0000;\"> practice and explore more advanced OOP concepts. </h6>"
   ]
  }
 ],
 "metadata": {
  "kaggle": {
   "accelerator": "none",
   "dataSources": [],
   "dockerImageVersionId": 30587,
   "isGpuEnabled": false,
   "isInternetEnabled": true,
   "language": "python",
   "sourceType": "notebook"
  },
  "kernelspec": {
   "display_name": "Python 3",
   "language": "python",
   "name": "python3"
  },
  "language_info": {
   "codemirror_mode": {
    "name": "ipython",
    "version": 3
   },
   "file_extension": ".py",
   "mimetype": "text/x-python",
   "name": "python",
   "nbconvert_exporter": "python",
   "pygments_lexer": "ipython3",
   "version": "3.10.12"
  },
  "papermill": {
   "default_parameters": {},
   "duration": 3.480451,
   "end_time": "2023-11-30T13:43:31.022179",
   "environment_variables": {},
   "exception": null,
   "input_path": "__notebook__.ipynb",
   "output_path": "__notebook__.ipynb",
   "parameters": {},
   "start_time": "2023-11-30T13:43:27.541728",
   "version": "2.4.0"
  }
 },
 "nbformat": 4,
 "nbformat_minor": 5
}
